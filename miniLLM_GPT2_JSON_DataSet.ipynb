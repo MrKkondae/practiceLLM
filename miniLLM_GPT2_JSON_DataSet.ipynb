{
  "nbformat": 4,
  "nbformat_minor": 0,
  "metadata": {
    "colab": {
      "provenance": [],
      "authorship_tag": "ABX9TyN0k2aXGEh+ux/0HhUYM1Sz",
      "include_colab_link": true
    },
    "kernelspec": {
      "name": "python3",
      "display_name": "Python 3"
    },
    "language_info": {
      "name": "python"
    }
  },
  "cells": [
    {
      "cell_type": "markdown",
      "metadata": {
        "id": "view-in-github",
        "colab_type": "text"
      },
      "source": [
        "<a href=\"https://colab.research.google.com/github/MrKkondae/practiceLLM/blob/main/miniLLM_GPT2_JSON_DataSet.ipynb\" target=\"_parent\"><img src=\"https://colab.research.google.com/assets/colab-badge.svg\" alt=\"Open In Colab\"/></a>"
      ]
    },
    {
      "cell_type": "markdown",
      "source": [
        "1. 라이브러리 설치 및 환경 설정"
      ],
      "metadata": {
        "id": "Nx_uoMw86nOj"
      }
    },
    {
      "cell_type": "code",
      "source": [
        "!pip install transformers datasets accelerate --upgrade\n",
        "\n",
        "import torch\n",
        "from transformers import GPT2LMHeadModel, PreTrainedTokenizerFast, Trainer, TrainingArguments, DataCollatorForLanguageModeling\n",
        "from datasets import Dataset"
      ],
      "metadata": {
        "id": "GVOwhcQM6slg"
      },
      "execution_count": null,
      "outputs": []
    }
  ]
}